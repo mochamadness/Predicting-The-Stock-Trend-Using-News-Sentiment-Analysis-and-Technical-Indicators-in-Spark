{
  "cells": [
    {
      "cell_type": "markdown",
      "metadata": {
        "id": "view-in-github",
        "colab_type": "text"
      },
      "source": [
        "<a href=\"https://colab.research.google.com/github/mochamadness/Predicting-The-Stock-Trend-Using-News-Sentiment-Analysis-and-Technical-Indicators-in-Spark/blob/Dung/Financial_Data.ipynb\" target=\"_parent\"><img src=\"https://colab.research.google.com/assets/colab-badge.svg\" alt=\"Open In Colab\"/></a>"
      ]
    },
    {
      "cell_type": "code",
      "source": [
        "!pip install findspark\n",
        "!pip install pyspark"
      ],
      "metadata": {
        "id": "3Ca1QYdp_O5t",
        "outputId": "74feccdf-3e51-4b3d-923e-40aebafba24b",
        "colab": {
          "base_uri": "https://localhost:8080/"
        }
      },
      "execution_count": 1,
      "outputs": [
        {
          "output_type": "stream",
          "name": "stdout",
          "text": [
            "Collecting findspark\n",
            "  Downloading findspark-2.0.1-py2.py3-none-any.whl (4.4 kB)\n",
            "Installing collected packages: findspark\n",
            "Successfully installed findspark-2.0.1\n",
            "Collecting pyspark\n",
            "  Downloading pyspark-3.5.0.tar.gz (316.9 MB)\n",
            "\u001b[2K     \u001b[90m━━━━━━━━━━━━━━━━━━━━━━━━━━━━━━━━━━━━━━━━\u001b[0m \u001b[32m316.9/316.9 MB\u001b[0m \u001b[31m4.4 MB/s\u001b[0m eta \u001b[36m0:00:00\u001b[0m\n",
            "\u001b[?25h  Preparing metadata (setup.py) ... \u001b[?25l\u001b[?25hdone\n",
            "Requirement already satisfied: py4j==0.10.9.7 in /usr/local/lib/python3.10/dist-packages (from pyspark) (0.10.9.7)\n",
            "Building wheels for collected packages: pyspark\n",
            "  Building wheel for pyspark (setup.py) ... \u001b[?25l\u001b[?25hdone\n",
            "  Created wheel for pyspark: filename=pyspark-3.5.0-py2.py3-none-any.whl size=317425345 sha256=beac632ea5c4545fe8a4d8445e334f090e8535d5c0ff156360fb845caf044b07\n",
            "  Stored in directory: /root/.cache/pip/wheels/41/4e/10/c2cf2467f71c678cfc8a6b9ac9241e5e44a01940da8fbb17fc\n",
            "Successfully built pyspark\n",
            "Installing collected packages: pyspark\n",
            "Successfully installed pyspark-3.5.0\n"
          ]
        }
      ]
    },
    {
      "cell_type": "code",
      "execution_count": 2,
      "metadata": {
        "id": "-d0UyVtkJ8rx",
        "outputId": "4739cf74-2812-4362-8b0e-538188d96daa",
        "colab": {
          "base_uri": "https://localhost:8080/"
        }
      },
      "outputs": [
        {
          "output_type": "stream",
          "name": "stderr",
          "text": [
            "/usr/local/lib/python3.10/dist-packages/pyspark/sql/context.py:113: FutureWarning: Deprecated in 3.0.0. Use SparkSession.builder.getOrCreate() instead.\n",
            "  warnings.warn(\n"
          ]
        }
      ],
      "source": [
        "import findspark\n",
        "findspark.init()\n",
        "findspark.find()\n",
        "import pyspark\n",
        "from pyspark.sql import *\n",
        "from pyspark.sql.functions import length, col\n",
        "from pyspark import SparkContext\n",
        "sc = SparkContext()\n",
        "sql = SQLContext(sc)"
      ]
    },
    {
      "cell_type": "code",
      "execution_count": 3,
      "metadata": {
        "id": "qljz-TVWJ8r9",
        "outputId": "b80e909e-b473-42a3-d41b-68e835d3a277",
        "colab": {
          "base_uri": "https://localhost:8080/"
        }
      },
      "outputs": [
        {
          "output_type": "stream",
          "name": "stderr",
          "text": [
            "/usr/local/lib/python3.10/dist-packages/yfinance/base.py:48: FutureWarning: The default dtype for empty Series will be 'object' instead of 'float64' in a future version. Specify a dtype explicitly to silence this warning.\n",
            "  _empty_series = pd.Series()\n"
          ]
        }
      ],
      "source": [
        "import pandas as pd\n",
        "import yfinance as yf\n",
        "from functools import reduce\n",
        "import pandas_datareader as pdr\n",
        "from pyspark.sql.window import Window\n",
        "from pyspark.sql.functions import lit, DataFrame, udf, lead,lag, when, avg, abs, max, min"
      ]
    },
    {
      "cell_type": "markdown",
      "metadata": {
        "id": "ToUD1ZZWJ8sD"
      },
      "source": [
        "##  Data import and Feature Generation"
      ]
    },
    {
      "cell_type": "code",
      "execution_count": 16,
      "metadata": {
        "scrolled": true,
        "id": "giNkE00IJ8sJ"
      },
      "outputs": [],
      "source": [
        "class STOCK():\n",
        "    def __init__(self,*args, start_date, end_date):\n",
        "        # Combine individual stock dataframes in one Spark dataframe\n",
        "        self.df_complete = reduce(DataFrame.union, self.complete_df(args,start_date, end_date))\n",
        "\n",
        "    # Import Stocks data as spark dataframe from Yahoo finance\n",
        "    def complete_df(self, args, start_date, end_date):\n",
        "        dfs = []\n",
        "        for symbol in args:\n",
        "            stock = sql.createDataFrame(yf.download(symbol, start=start_date, end=end_date).reset_index()) \\\n",
        "                       .withColumn(\"Symbol\", lit(symbol)).withColumnRenamed('Adj Close', 'Adj_close')\n",
        "            dfs.append(stock)\n",
        "        return dfs\n",
        "\n",
        "    #Generate Features:\n",
        "    def add_features(self, symbol):\n",
        "        \"\"\" T_trend_udf: returns user defined function to create Today's Trend feature by subtracting the\n",
        "                         open price from the close price of the trading day.\n",
        "            F_trend: return a window function that accesses the next day close's price to substract today's close\n",
        "                     price from it and create Future Trend feature\n",
        "        \"\"\"\n",
        "\n",
        "        symbol_df = self.df_complete.filter(self.df_complete[\"Symbol\"] == symbol)\n",
        "        T_trend_udf = udf(lambda Close_price, Open_price: \"Uptrend\" if Close_price - Open_price >= 0 else \"Downtrend\")\n",
        "        F_trend = lead(symbol_df[\"Close\"],1).over(Window().orderBy(\"Date\"))\n",
        "\n",
        "        # Add all created features to the dataframe:\n",
        "        symbol_df = symbol_df.withColumn(\"today_trend\", T_trend_udf(symbol_df[\"Close\"], symbol_df[\"Open\"])) \\\n",
        "                             .withColumn(\"tomorrow_trend\", when((F_trend - symbol_df[\"Close\"]) >= 0, \"Uptrend\") \\\n",
        "                                        .otherwise(\"Downtrend\")) \\\n",
        "                             .withColumn(\"RSI\", self.RSI(symbol_df)) \\\n",
        "                             .withColumn(\"SMA\", self.SMA(symbol_df)) \\\n",
        "                             .withColumn(\"K\", self.K(symbol_df))\n",
        "\n",
        "        return symbol_df.na.drop().filter(symbol_df[\"RSI\"] > 0)\n",
        "\n",
        "\n",
        "\n",
        "\n",
        "    def RSI(self, symbol_df):\n",
        "        \"\"\" A function returns the 14-days period RSI feature to be added later to the dataframe.\n",
        "        RSI = 100 - 100/[1 + (Average of 14 days gains) / (Average of 14 days losses)]\n",
        "\n",
        "        \"\"\"\n",
        "\n",
        "        # Creating gain_loss column for each day, close_price_today - close_price_yesterday:\n",
        "        gain_loss = symbol_df['close'] - lag(symbol_df[\"Close\"],1).over(Window().orderBy(\"Date\"))\n",
        "\n",
        "        # Calculating the Average of 14 days gains\n",
        "        gain = when(gain_loss > 0, gain_loss).otherwise(0)\n",
        "        Avg_gain = avg(gain).over(Window.orderBy(\"Date\").rowsBetween(-14, -1))\n",
        "\n",
        "        # Calculating the Average of 14 days loss\n",
        "        loss = when(gain_loss < 0, gain_loss).otherwise(0)\n",
        "        Avg_loss = avg(abs(loss)).over(Window.orderBy(\"Date\").rowsBetween(-14, -1))\n",
        "\n",
        "        # Calculating RS:\n",
        "        RS = Avg_gain / Avg_loss\n",
        "\n",
        "        # Calculating 14-days RSI:\n",
        "        RSI = 100 - (100/(1+RS))\n",
        "\n",
        "        return RSI\n",
        "\n",
        "    def SMA(self, symbol_df):\n",
        "        \"\"\" A function returns the 14-days period SMA feature to be added later to the dataframe.\n",
        "        SMA = sum(14_close_prices) / 14\n",
        "\n",
        "        \"\"\"\n",
        "        acc = lag(symbol_df[\"Close\"],1).over(Window().orderBy(\"Date\"))\n",
        "        SMA = avg(acc).over(Window().rowsBetween(-14,-1))\n",
        "        return SMA\n",
        "\n",
        "    def K(self, symbol_df):\n",
        "        \"\"\" A function returns Stochastic Oscillator indicator to be added later to the dataframe.\n",
        "        %K = 100 * [(Current Close_price - Lowest Low over the past 14 days)\n",
        "                 /(Highest High over the past 14 days - Lowest Low over the past 14 days)]\n",
        "        \"\"\"\n",
        "        HH_14 = max('High').over(Window().orderBy(\"Date\").rowsBetween(-14,0))\n",
        "        LL_14 = min(\"Low\").over(Window().orderBy(\"Date\").rowsBetween(-14,0))\n",
        "        K = 100*((symbol_df[\"Close\"] - LL_14) / (HH_14 - LL_14))\n",
        "        return K\n",
        "\n",
        "\n",
        "    #Save dataframe as CSV file:\n",
        "    def save_df(self, df, file_name):\n",
        "        df.coalesce(1).write.csv(file_name, header=True)\n",
        "\n",
        ""
      ]
    },
    {
      "cell_type": "code",
      "execution_count": 17,
      "metadata": {
        "id": "ztkFdt04J8sN",
        "outputId": "19d5c43b-f116-4c46-85a4-1e2b28632fc0",
        "colab": {
          "base_uri": "https://localhost:8080/"
        }
      },
      "outputs": [
        {
          "output_type": "stream",
          "name": "stderr",
          "text": [
            "[*********************100%%**********************]  1 of 1 completed\n",
            "[*********************100%%**********************]  1 of 1 completed\n"
          ]
        },
        {
          "output_type": "stream",
          "name": "stdout",
          "text": [
            "+-------------------+------------------+------------------+------------------+------------------+------------------+---------+------+\n",
            "|               Date|              Open|              High|               Low|             Close|         Adj_close|   Volume|Symbol|\n",
            "+-------------------+------------------+------------------+------------------+------------------+------------------+---------+------+\n",
            "|2019-05-01 00:00:00|52.470001220703125| 53.82749938964844|52.307498931884766|52.630001068115234| 50.73149490356445|259309200|  AAPL|\n",
            "|2019-05-02 00:00:00|52.459999084472656|53.162498474121094|52.032501220703125|52.287498474121094|50.401344299316406|127985200|  AAPL|\n",
            "+-------------------+------------------+------------------+------------------+------------------+------------------+---------+------+\n",
            "only showing top 2 rows\n",
            "\n"
          ]
        }
      ],
      "source": [
        "#Example: Create dataframe of two stocks for one year time period\n",
        "Example = STOCK('AAPL', 'NFLX', start_date = \"2019-05-01\", end_date = \"2020-05-01\").df_complete\n",
        "Example.show(2)"
      ]
    },
    {
      "cell_type": "code",
      "execution_count": 18,
      "metadata": {
        "id": "y09FinTcJ8sU",
        "outputId": "65245013-b902-4108-d4b5-547ac8668173",
        "colab": {
          "base_uri": "https://localhost:8080/"
        }
      },
      "outputs": [
        {
          "output_type": "stream",
          "name": "stderr",
          "text": [
            "[*********************100%%**********************]  1 of 1 completed\n",
            "[*********************100%%**********************]  1 of 1 completed\n",
            "[*********************100%%**********************]  1 of 1 completed\n"
          ]
        }
      ],
      "source": [
        "# Stocks spark datafame:\n",
        "stock = STOCK('AAPL', 'AMZN', 'NFLX', start_date = \"2016-01-01\", end_date = \"2020-04-01\")\n",
        "stock_df = stock.df_complete\n",
        "\n",
        "#create features for each stock dataframe\n",
        "AAPL_df = stock.add_features(\"AAPL\")\n",
        "AMZN_df = stock.add_features(\"AMZN\")\n",
        "NFLX_df = stock.add_features(\"NFLX\")"
      ]
    },
    {
      "cell_type": "code",
      "execution_count": 19,
      "metadata": {
        "id": "uBUkyhhxJ8sV",
        "outputId": "2a001419-8c4d-4ee5-a22c-a07af446e091",
        "colab": {
          "base_uri": "https://localhost:8080/"
        }
      },
      "outputs": [
        {
          "output_type": "stream",
          "name": "stdout",
          "text": [
            "Number of records:1063\n",
            "root\n",
            " |-- Date: timestamp (nullable = true)\n",
            " |-- Open: double (nullable = true)\n",
            " |-- High: double (nullable = true)\n",
            " |-- Low: double (nullable = true)\n",
            " |-- Close: double (nullable = true)\n",
            " |-- Adj_close: double (nullable = true)\n",
            " |-- Volume: long (nullable = true)\n",
            " |-- Symbol: string (nullable = false)\n",
            " |-- today_trend: string (nullable = true)\n",
            " |-- tomorrow_trend: string (nullable = false)\n",
            " |-- RSI: double (nullable = true)\n",
            " |-- SMA: double (nullable = true)\n",
            " |-- K: double (nullable = true)\n",
            "\n",
            "+-------------------+------------------+------------------+------------------+------------------+------------------+---------+------+-----------+--------------+------------------+------------------+------------------+\n",
            "|               Date|              Open|              High|               Low|             Close|         Adj_close|   Volume|Symbol|today_trend|tomorrow_trend|               RSI|               SMA|                 K|\n",
            "+-------------------+------------------+------------------+------------------+------------------+------------------+---------+------+-----------+--------------+------------------+------------------+------------------+\n",
            "|2016-01-11 00:00:00| 24.74250030517578|24.764999389648438|24.334999084472656| 24.63249969482422|22.425256729125977|198957600|  AAPL|  Downtrend|       Uptrend| 5.419786798639194|25.325624465942383|22.292981765581544|\n",
            "|2016-01-12 00:00:00|25.137500762939453|25.172500610351562|24.709999084472656|24.989999771118164|22.750720977783203|196616800|  AAPL|  Downtrend|     Downtrend|18.943544582262987| 25.10849952697754| 37.47345504730711|\n",
            "|2016-01-13 00:00:00|25.079999923706055|25.297500610351562|24.325000762939453| 24.34749984741211|22.165794372558594|249758400|  AAPL|  Downtrend|       Uptrend| 28.28365109147647|25.029166221618652|10.191075064509702|\n",
            "|2016-01-14 00:00:00|24.489999771118164|  25.1200008392334|23.934999465942383|  24.8799991607666|22.650577545166016|252680400|  AAPL|    Uptrend|     Downtrend| 23.43125066527999|25.023571014404297| 37.38870970419685|\n",
            "|2016-01-15 00:00:00|24.049999237060547|24.427499771118164| 23.84000015258789|24.282499313354492| 22.10661506652832|319335600|  AAPL|    Uptrend|     Downtrend| 32.96317468414486|24.939062118530273| 16.87318401826982|\n",
            "|2016-01-19 00:00:00|24.602500915527344|24.662500381469727|            23.875|24.165000915527344|21.999650955200195|212350800|  AAPL|  Downtrend|       Uptrend| 28.92307379306891|24.932499567667644|12.392786620555732|\n",
            "|2016-01-20 00:00:00|23.774999618530273|24.547500610351562|23.354999542236328|24.197500228881836| 22.02923583984375|289337600|  AAPL|    Uptrend|     Downtrend| 28.24236955240235|24.867499542236327| 27.11184765762863|\n",
            "|2016-01-21 00:00:00|24.264999389648438|24.469999313354492|23.735000610351562|24.075000762939453|  21.9177188873291|208646000|  AAPL|  Downtrend|       Uptrend|28.706464035928775| 24.80363603071733|23.169789317006554|\n",
            "|2016-01-22 00:00:00|24.657499313354492|25.364999771118164|24.592500686645508|25.354999542236328|23.083011627197266|263202000|  AAPL|    Uptrend|     Downtrend|28.023311351722697|24.753124713897705| 64.36041676257116|\n",
            "|2016-01-25 00:00:00|  25.3799991607666| 25.38249969482422|24.802499771118164|24.860000610351562|22.632369995117188|207178000|  AAPL|  Downtrend|       Uptrend|  42.3570541081986|24.700961333054764|48.431247986005616|\n",
            "|2016-01-26 00:00:00|24.982500076293945|25.219999313354492|24.517499923706055|24.997499465942383|22.757545471191406|300308000|  AAPL|    Uptrend|     Downtrend| 39.32827664001107|24.747678347996303| 52.85598981110651|\n",
            "|2016-01-27 00:00:00|24.010000228881836|24.157499313354492|23.334999084472656|23.354999542236328|21.262222290039062|533478800|  AAPL|  Downtrend|       Uptrend|44.687492549412305|24.642142704554967|0.8859554183448366|\n",
            "|2016-01-28 00:00:00|23.447500228881836|  23.6299991607666| 23.09749984741211|23.522499084472656|21.414718627929688|222715200|  AAPL|    Uptrend|       Uptrend|37.931025759853966|24.593571254185267|  18.5995302162441|\n",
            "|2016-01-29 00:00:00|23.697500228881836|24.334999084472656|23.587499618530273|24.334999084472656|22.154415130615234|257666000|  AAPL|    Uptrend|     Downtrend|45.560565919130624|24.463571275983536| 54.15751946163516|\n",
            "|2016-02-01 00:00:00| 24.11750030517578|24.177499771118164|23.850000381469727|24.107500076293945| 21.94729995727539|163774000|  AAPL|  Downtrend|     Downtrend|50.648017825531795|24.421428407941544|44.201325878674254|\n",
            "|2016-02-02 00:00:00|23.854999542236328|24.010000228881836| 23.56999969482422|  23.6200008392334| 21.50348663330078|149428800|  AAPL|  Downtrend|       Uptrend| 46.33635554618518|24.428214073181152|22.866565720476995|\n",
            "|2016-02-03 00:00:00|             23.75|24.209999084472656|23.520000457763672|24.087499618530273| 21.92909049987793|183857200|  AAPL|    Uptrend|       Uptrend| 40.61000199755482| 24.39071410042899| 43.32603226382682|\n",
            "|2016-02-04 00:00:00| 23.96500015258789|24.332500457763672|23.797500610351562|24.149999618530273|22.105283737182617|185886800|  AAPL|    Uptrend|     Downtrend| 48.17415297655324|24.292857033865793|46.061262205779975|\n",
            "|2016-02-05 00:00:00|  24.1299991607666|24.229999542236328|23.422500610351562|  23.5049991607666| 21.51490020751953|185672400|  AAPL|  Downtrend|       Uptrend| 44.51127345110152|24.274285588945663|17.833669171400953|\n",
            "|2016-02-08 00:00:00|23.282499313354492|23.924999237060547|23.260000228881836|23.752500534057617|  21.7414493560791|216085600|  AAPL|    Uptrend|     Downtrend| 44.19558616557319| 24.22214276450021| 28.66523984180274|\n",
            "+-------------------+------------------+------------------+------------------+------------------+------------------+---------+------+-----------+--------------+------------------+------------------+------------------+\n",
            "only showing top 20 rows\n",
            "\n"
          ]
        }
      ],
      "source": [
        "print('Number of records:{}'.format(AAPL_df.count()))\n",
        "AAPL_df.printSchema()\n",
        "AAPL_df.show()"
      ]
    },
    {
      "cell_type": "code",
      "execution_count": null,
      "metadata": {
        "id": "wCTy0uM_J8sX"
      },
      "outputs": [],
      "source": [
        "# #Save data\n",
        "# stock.save_df(AAPL_df,\"AAPL_stock\")\n",
        "# stock.save_df(AMZN_df,\"AMZN_stock\")\n",
        "# stock.save_df(NFLX_df,\"NFLX_stock\")"
      ]
    }
  ],
  "metadata": {
    "kernelspec": {
      "display_name": "Python 3",
      "language": "python",
      "name": "python3"
    },
    "language_info": {
      "codemirror_mode": {
        "name": "ipython",
        "version": 3
      },
      "file_extension": ".py",
      "mimetype": "text/x-python",
      "name": "python",
      "nbconvert_exporter": "python",
      "pygments_lexer": "ipython3",
      "version": "3.7.4"
    },
    "colab": {
      "provenance": [],
      "include_colab_link": true
    }
  },
  "nbformat": 4,
  "nbformat_minor": 0
}